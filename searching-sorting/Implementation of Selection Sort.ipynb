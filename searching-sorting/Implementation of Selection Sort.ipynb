{
 "cells": [
  {
   "cell_type": "markdown",
   "metadata": {},
   "source": [
    "# Implementation of Selection Sort \n",
    "\n",
    "### It will check all the array. Find the minimun element and replace it with right place\n",
    "\n",
    "### https://visualgo.net/en/sorting"
   ]
  },
  {
   "cell_type": "code",
   "execution_count": 20,
   "metadata": {},
   "outputs": [],
   "source": [
    "def selection_sort(arr):\n",
    "    \n",
    "    for k in range(len(arr)-1, 0, -1):\n",
    "        positionOfmax = 0\n",
    "        \n",
    "        for location in range(1, k+1):\n",
    "            if arr[location] > arr[positionOfmax]: \n",
    "                positionOfmax = location\n",
    "                \n",
    "        temp = arr[positionOfmax]\n",
    "        arr[positionOfmax] = arr[k]\n",
    "        arr[k] = temp\n",
    "    \n",
    "    return arr\n",
    "\n"
   ]
  },
  {
   "cell_type": "code",
   "execution_count": 21,
   "metadata": {},
   "outputs": [
    {
     "data": {
      "text/plain": [
       "[2, 3, 4, 5, 15, 19, 26, 27, 36, 38, 44, 46, 47, 48, 50]"
      ]
     },
     "execution_count": 21,
     "metadata": {},
     "output_type": "execute_result"
    }
   ],
   "source": [
    "selection_sort([3,44,38,5,47,15,36,26,27,2,46,4,19,50,48])"
   ]
  }
 ],
 "metadata": {
  "kernelspec": {
   "display_name": "Python 3",
   "language": "python",
   "name": "python3"
  },
  "language_info": {
   "codemirror_mode": {
    "name": "ipython",
    "version": 3
   },
   "file_extension": ".py",
   "mimetype": "text/x-python",
   "name": "python",
   "nbconvert_exporter": "python",
   "pygments_lexer": "ipython3",
   "version": "3.7.1"
  }
 },
 "nbformat": 4,
 "nbformat_minor": 2
}
