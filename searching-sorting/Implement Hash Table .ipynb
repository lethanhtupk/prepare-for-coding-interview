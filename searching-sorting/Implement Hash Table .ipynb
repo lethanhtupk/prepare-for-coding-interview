{
 "cells": [
  {
   "cell_type": "markdown",
   "metadata": {},
   "source": [
    "# Implement Hash Table\n"
   ]
  },
  {
   "cell_type": "code",
   "execution_count": null,
   "metadata": {},
   "outputs": [],
   "source": [
    "class hashTable():\n",
    "    \n",
    "    def __init__(self, size):\n",
    "        self.size = size\n",
    "        slots = [None] * self.size\n",
    "        data = [None] * self.size\n",
    "    \n",
    "    def put(self, key, data):\n",
    "        \n",
    "        hashValue = hashFunction(key, len(self.slots))\n",
    "        \n",
    "        if self.slots[hashValue] == None: \n",
    "            self.slots[hashValue] = key\n",
    "            self.data[hashValue] = data\n",
    "        \n",
    "        else: \n",
    "            \n",
    "            if self.slots[hashValue] = key:\n",
    "                self.data[hashValue] = data\n",
    "            \n",
    "            else: \n",
    "                \n",
    "                nextslot = rehash(hashValue, len(self.slots))\n",
    "                \n",
    "                while self.slots[nextslot] != None and self.slots[nextslot] != key: \n",
    "                    nextslot = rehash(nextslot, len(self.slots))\n",
    "                \n",
    "                if self.slots[nextslot] == None: \n",
    "                    self.slots[nextslot] = key\n",
    "                    self.data[nextslot] = data\n",
    "                    \n",
    "                elif self.slots[nextslot] = key: \n",
    "                    self.data[nextslot] = data\n",
    "            \n",
    "    \n",
    "    def hashFunction(self, key):\n",
    "        return key% len(self.slots)\n",
    "    \n",
    "    def rehash(self, oldhash):\n",
    "        return (oldhash+1)% len(self.slots)\n",
    "        \n",
    "    \n",
    "    def get(self, key):\n",
    "        \n",
    "        startslot = key% len(self.slots)\n",
    "        stop = False\n",
    "        found = False \n",
    "        pos = startslot\n",
    "        \n",
    "        while self.slots[pos] != None and not found and not stop: \n",
    "            \n",
    "            if self.slots[pos] = key: \n",
    "                found = True\n",
    "                return self.data[pos]\n",
    "            \n",
    "            else:\n",
    "                pos = self.rehash(pos, len(self.slots))\n",
    "                \n",
    "                if pos == startslot: \n",
    "                    \n",
    "    def __getitem__(self, key):\n",
    "        return self.get(key)\n",
    "    \n",
    "    def __setitem__(self, key, data):\n",
    "        self.put(key, data)\n",
    "    "
   ]
  }
 ],
 "metadata": {
  "kernelspec": {
   "display_name": "Python 3",
   "language": "python",
   "name": "python3"
  },
  "language_info": {
   "codemirror_mode": {
    "name": "ipython",
    "version": 3
   },
   "file_extension": ".py",
   "mimetype": "text/x-python",
   "name": "python",
   "nbconvert_exporter": "python",
   "pygments_lexer": "ipython3",
   "version": "3.7.1"
  }
 },
 "nbformat": 4,
 "nbformat_minor": 2
}
