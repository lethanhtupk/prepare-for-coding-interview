{
 "cells": [
  {
   "cell_type": "markdown",
   "metadata": {},
   "source": [
    "# Implementation Of Quick Sort\n",
    "\n",
    "\n",
    "### It choose the pivot element (the last element of array) and place it to the right place\n",
    "\n",
    "### Place all smaller element than pivot to the left and larger element in the right"
   ]
  },
  {
   "cell_type": "code",
   "execution_count": 22,
   "metadata": {},
   "outputs": [],
   "source": [
    "def quick_sort(arr):\n",
    "    \n",
    "    start = 0\n",
    "    end = len(arr) - 1\n",
    "    quick_sort_help(arr, start, end)\n",
    "    \n",
    "    return arr\n",
    "\n",
    "def quick_sort_help(arr,start, end):\n",
    "    \n",
    "    if start < end: \n",
    "        pIndex = partition(arr, start, end)\n",
    "        \n",
    "        quick_sort_help(arr, start, pIndex-1)\n",
    "        quick_sort_help(arr, pIndex +1, end)\n",
    "    \n",
    "    \n",
    "\n",
    "def partition(arr, start, end):\n",
    "    \n",
    "    pIndex = start # the index of first larger element\n",
    "    pivot = arr[end] # the value of pivot\n",
    "    \n",
    "    for i in range(start, end):\n",
    "        \n",
    "        if arr[i] <= pivot: \n",
    "            \n",
    "            temp = arr[i]\n",
    "            arr[i] = arr[pIndex]\n",
    "            arr[pIndex] = temp\n",
    "            pIndex += 1\n",
    "    \n",
    "    temp = arr[pIndex] \n",
    "    arr[pIndex] = arr[end]\n",
    "    arr[end] = temp\n",
    "    \n",
    "    return pIndex\n",
    "    "
   ]
  },
  {
   "cell_type": "code",
   "execution_count": 23,
   "metadata": {},
   "outputs": [
    {
     "data": {
      "text/plain": [
       "[2, 3, 4, 5, 15, 19, 26, 27, 36, 38, 44, 46, 47, 48, 50]"
      ]
     },
     "execution_count": 23,
     "metadata": {},
     "output_type": "execute_result"
    }
   ],
   "source": [
    "arr = [3,44,38,5,47,15,36,26,27,2,46,4,19,50,48]\n",
    "\n",
    "quick_sort(arr)"
   ]
  }
 ],
 "metadata": {
  "kernelspec": {
   "display_name": "Python 3",
   "language": "python",
   "name": "python3"
  },
  "language_info": {
   "codemirror_mode": {
    "name": "ipython",
    "version": 3
   },
   "file_extension": ".py",
   "mimetype": "text/x-python",
   "name": "python",
   "nbconvert_exporter": "python",
   "pygments_lexer": "ipython3",
   "version": "3.7.1"
  }
 },
 "nbformat": 4,
 "nbformat_minor": 2
}
